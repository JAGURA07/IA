{
  "nbformat": 4,
  "nbformat_minor": 0,
  "metadata": {
    "colab": {
      "provenance": []
    },
    "kernelspec": {
      "name": "python3",
      "display_name": "Python 3"
    },
    "language_info": {
      "name": "python"
    }
  },
  "cells": [
    {
      "cell_type": "code",
      "execution_count": 9,
      "metadata": {
        "id": "yS1wA2WPwVkp"
      },
      "outputs": [],
      "source": [
        "import numpy as np \n"
      ]
    },
    {
      "cell_type": "code",
      "source": [
        "def F(x):\n",
        "  return np.exp(-x**2)"
      ],
      "metadata": {
        "id": "JJusES_9wYPd"
      },
      "execution_count": 10,
      "outputs": []
    },
    {
      "cell_type": "code",
      "source": [
        "def monte_carlo(F,a,b,M): \n",
        "  s = 0\n",
        "  for i in range(M): \n",
        "    s+= F(a+(b-a)*np.random.uniform(0,1,1))\n",
        "  return ((b-a)/M)*s[0]"
      ],
      "metadata": {
        "id": "P0Ed7PkOxCKK"
      },
      "execution_count": 11,
      "outputs": []
    },
    {
      "cell_type": "code",
      "source": [
        "monte_carlo(F,0,1,1000)"
      ],
      "metadata": {
        "colab": {
          "base_uri": "https://localhost:8080/"
        },
        "id": "PCpH81CvxCMn",
        "outputId": "a22cb9ae-359f-450d-fd28-3ebb4e00e56a"
      },
      "execution_count": 12,
      "outputs": [
        {
          "output_type": "execute_result",
          "data": {
            "text/plain": [
              "0.7420946092406374"
            ]
          },
          "metadata": {},
          "execution_count": 12
        }
      ]
    }
  ]
}