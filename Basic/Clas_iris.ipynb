{
  "nbformat": 4,
  "nbformat_minor": 0,
  "metadata": {
    "colab": {
      "provenance": []
    },
    "kernelspec": {
      "name": "python3",
      "display_name": "Python 3"
    },
    "language_info": {
      "name": "python"
    }
  },
  "cells": [
    {
      "cell_type": "code",
      "source": [
        "import numpy as np\n",
        "import matplotlib.pyplot as plt"
      ],
      "metadata": {
        "id": "h1btaVp-Dzmx"
      },
      "execution_count": null,
      "outputs": []
    },
    {
      "cell_type": "code",
      "source": [
        "def sigmoid(z):\n",
        "  return 1/(1+np.exp(-z))"
      ],
      "metadata": {
        "id": "_VxxqY9rBtvj"
      },
      "execution_count": null,
      "outputs": []
    },
    {
      "cell_type": "code",
      "source": [
        "def costo(y, f, n):\n",
        "  return (1/n)*np.sum(-(y*np.log(f)+(1-y)*np.log(1-f)))"
      ],
      "metadata": {
        "id": "d8NWVoQBBwCq"
      },
      "execution_count": null,
      "outputs": []
    },
    {
      "cell_type": "code",
      "source": [
        "def forwardPropagation(x,weights):\n",
        "  return sigmoid(x.dot(weights))"
      ],
      "metadata": {
        "id": "DgmwV2NgBwt6"
      },
      "execution_count": null,
      "outputs": []
    },
    {
      "cell_type": "code",
      "source": [
        "def training( x,y,epochs,learning_rate ):\n",
        "  w = np.random.uniform(1,1,( x.shape [1],1))\n",
        "  n = len(y)\n",
        "  cost = np.zeros((epochs,1))\n",
        "  for epoch in range(epochs):\n",
        "    f = forwardPropagation(x,w)\n",
        "    cost[epoch]= costo(y,f,n)\n",
        "    w = w-((1/n)*learning_rate)*x.T.dot(-y+f)\n",
        "  return w,cost"
      ],
      "metadata": {
        "id": "CURGqOD6CODD"
      },
      "execution_count": null,
      "outputs": []
    },
    {
      "cell_type": "code",
      "source": [
        "def predict(x,weights):\n",
        "  res = forwardPropagation(x,weights)\n",
        "  predicted = np.ones( (len(x),1))\n",
        "  predicted[res<0.5]=0\n",
        "  return predicted"
      ],
      "metadata": {
        "id": "gTvgyCrTC8_P"
      },
      "execution_count": null,
      "outputs": []
    },
    {
      "cell_type": "code",
      "source": [
        "x_orig = np.array([[0.5,0.7],[0.6,0.8],[0.1,0.2],[0.15,0.2],[0.1,0.1],[0.6,0.6]])\n",
        "y = np.array([[0],[0],[1],[1],[1],[0]])\n",
        "print( x_orig.shape )\n",
        "print(y.shape )\n",
        "x = np.column_stack((np.ones(len(x_orig)), x_orig))"
      ],
      "metadata": {
        "colab": {
          "base_uri": "https://localhost:8080/"
        },
        "id": "1NAspFHeIo-b",
        "outputId": "c6caa856-49b3-48d6-c9e7-0e35fa139e3f"
      },
      "execution_count": null,
      "outputs": [
        {
          "output_type": "stream",
          "name": "stdout",
          "text": [
            "(6, 2)\n",
            "(6, 1)\n"
          ]
        }
      ]
    },
    {
      "cell_type": "code",
      "source": [
        "epochs=100\n",
        "w,l = training(x,y,epochs,0.5)\n",
        "plt.plot(np.arange(0,epochs,1),l)\n",
        "plt.show()"
      ],
      "metadata": {
        "colab": {
          "base_uri": "https://localhost:8080/",
          "height": 265
        },
        "id": "7gEQjJQxDE79",
        "outputId": "0227efc8-28fe-4c29-d118-c2b7776b400a"
      },
      "execution_count": null,
      "outputs": [
        {
          "output_type": "display_data",
          "data": {
            "text/plain": [
              "<Figure size 432x288 with 1 Axes>"
            ],
            "image/png": "[encoded data removed]"
          },
          "metadata": {
            "needs_background": "light"
          }
        }
      ]
    },
    {
      "cell_type": "code",
      "source": [
        "print(predict(x,w))\n",
        "print('Recta =')\n",
        "print(w)"
      ],
      "metadata": {
        "colab": {
          "base_uri": "https://localhost:8080/"
        },
        "id": "dM9RDzC8DMKn",
        "outputId": "4e62177a-d902-4f25-ddeb-49b3c6a1fd62"
      },
      "execution_count": null,
      "outputs": [
        {
          "output_type": "stream",
          "name": "stdout",
          "text": [
            "[[0.]\n",
            " [0.]\n",
            " [1.]\n",
            " [1.]\n",
            " [1.]\n",
            " [0.]]\n",
            "Recta =\n",
            "[[ 1.97216958]\n",
            " [-2.47429025]\n",
            " [-3.04454301]]\n"
          ]
        }
      ]
    },
    {
      "cell_type": "code",
      "source": [
        "from sklearn import datasets\n",
        "iris = datasets.load_iris()"
      ],
      "metadata": {
        "id": "hUUt7jAZPCUS"
      },
      "execution_count": null,
      "outputs": []
    },
    {
      "cell_type": "code",
      "source": [
        "def dropOneClass(dataset,classToRemove):\n",
        "  newX = []\n",
        "  newY = []\n",
        "  for i in range(len(dataset.data)):\n",
        "    if iris.target[i] != classToRemove:\n",
        "      newX.append(iris.data[i])\n",
        "      newY.append(iris.target[i])\n",
        "  newX = np.array(newX)\n",
        "  newY = np.array(newY,ndmin = 2)\n",
        "  return newX,newY.T"
      ],
      "metadata": {
        "id": "DR3q0Y7aN41g"
      },
      "execution_count": null,
      "outputs": []
    },
    {
      "cell_type": "code",
      "source": [
        "x_orig,y = dropOneClass(iris,0)\n",
        "print(x_orig.shape)\n",
        "y[y==1] = 0\n",
        "y[y==2] = 1\n",
        "print(y.shape)\n",
        "x = np.column_stack((np.ones(len(x_orig)), x_orig ))\n",
        "print(x.shape)"
      ],
      "metadata": {
        "colab": {
          "base_uri": "https://localhost:8080/"
        },
        "id": "1IXXIeJgOKN1",
        "outputId": "2e2fc92f-5a62-4e89-ee9e-530d40724f20"
      },
      "execution_count": null,
      "outputs": [
        {
          "output_type": "stream",
          "name": "stdout",
          "text": [
            "(100, 4)\n",
            "(100, 1)\n",
            "(100, 5)\n"
          ]
        }
      ]
    },
    {
      "cell_type": "code",
      "source": [
        "w,l = training(x,y,1000,0.01)"
      ],
      "metadata": {
        "id": "oVuyKkExP62h"
      },
      "execution_count": null,
      "outputs": []
    },
    {
      "cell_type": "code",
      "source": [
        "print(predict(x,w))\n",
        "print('Recta =')\n",
        "print(w)"
      ],
      "metadata": {
        "colab": {
          "base_uri": "https://localhost:8080/"
        },
        "id": "jPs0zOYkPlSE",
        "outputId": "f44c313e-1fb7-4e2b-eaff-be045d6f6e7a"
      },
      "execution_count": null,
      "outputs": [
        {
          "output_type": "stream",
          "name": "stdout",
          "text": [
            "[[0.]\n",
            " [0.]\n",
            " [0.]\n",
            " [0.]\n",
            " [0.]\n",
            " [0.]\n",
            " [0.]\n",
            " [0.]\n",
            " [0.]\n",
            " [0.]\n",
            " [0.]\n",
            " [0.]\n",
            " [0.]\n",
            " [0.]\n",
            " [0.]\n",
            " [0.]\n",
            " [1.]\n",
            " [0.]\n",
            " [0.]\n",
            " [0.]\n",
            " [1.]\n",
            " [0.]\n",
            " [0.]\n",
            " [0.]\n",
            " [0.]\n",
            " [0.]\n",
            " [0.]\n",
            " [0.]\n",
            " [0.]\n",
            " [0.]\n",
            " [0.]\n",
            " [0.]\n",
            " [0.]\n",
            " [1.]\n",
            " [1.]\n",
            " [0.]\n",
            " [0.]\n",
            " [0.]\n",
            " [0.]\n",
            " [0.]\n",
            " [0.]\n",
            " [0.]\n",
            " [0.]\n",
            " [0.]\n",
            " [0.]\n",
            " [0.]\n",
            " [0.]\n",
            " [0.]\n",
            " [0.]\n",
            " [0.]\n",
            " [1.]\n",
            " [1.]\n",
            " [1.]\n",
            " [1.]\n",
            " [1.]\n",
            " [1.]\n",
            " [1.]\n",
            " [1.]\n",
            " [1.]\n",
            " [1.]\n",
            " [1.]\n",
            " [1.]\n",
            " [1.]\n",
            " [1.]\n",
            " [1.]\n",
            " [1.]\n",
            " [1.]\n",
            " [1.]\n",
            " [1.]\n",
            " [1.]\n",
            " [1.]\n",
            " [1.]\n",
            " [1.]\n",
            " [1.]\n",
            " [1.]\n",
            " [1.]\n",
            " [1.]\n",
            " [1.]\n",
            " [1.]\n",
            " [0.]\n",
            " [1.]\n",
            " [1.]\n",
            " [1.]\n",
            " [1.]\n",
            " [1.]\n",
            " [1.]\n",
            " [1.]\n",
            " [1.]\n",
            " [1.]\n",
            " [1.]\n",
            " [1.]\n",
            " [1.]\n",
            " [1.]\n",
            " [1.]\n",
            " [1.]\n",
            " [1.]\n",
            " [1.]\n",
            " [1.]\n",
            " [1.]\n",
            " [1.]]\n",
            "Recta =\n",
            "[[ 0.44654889]\n",
            " [-0.99332208]\n",
            " [-0.22329491]\n",
            " [ 0.86539139]\n",
            " [ 1.37324566]]\n"
          ]
        }
      ]
    }
  ]
}