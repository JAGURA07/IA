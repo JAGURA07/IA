{
  "nbformat": 4,
  "nbformat_minor": 0,
  "metadata": {
    "colab": {
      "provenance": []
    },
    "kernelspec": {
      "name": "python3",
      "display_name": "Python 3"
    },
    "language_info": {
      "name": "python"
    }
  },
  "cells": [
    {
      "cell_type": "code",
      "execution_count": null,
      "metadata": {
        "id": "sJ7bPuWF9a6-"
      },
      "outputs": [],
      "source": [
        "import numpy as np\n",
        "import matplotlib.pyplot as plt"
      ]
    },
    {
      "cell_type": "code",
      "source": [
        "def circulo(theta):\n",
        "  return np.array( [np.cos(theta), np.sin(theta)] ).T"
      ],
      "metadata": {
        "id": "xJXV6OxH9_lU"
      },
      "execution_count": null,
      "outputs": []
    },
    {
      "cell_type": "code",
      "source": [
        "theta = np.arange(-2*np.pi,2*np.pi,0.1)\n",
        "xy = circulo(theta)\n",
        "plt.plot( xy[:,0], xy[:,1], '*b' )\n",
        "plt.axis('equal')\n",
        "plt.show()"
      ],
      "metadata": {
        "colab": {
          "base_uri": "https://localhost:8080/",
          "height": 265
        },
        "id": "25yR5KLf-Vs4",
        "outputId": "68a2d3bf-d9cb-4904-9191-89f0deec1e87"
      },
      "execution_count": null,
      "outputs": [
        {
          "output_type": "display_data",
          "data": {
            "text/plain": [
              "<Figure size 432x288 with 1 Axes>"
            ],
            "image/png": "[encoded data removed]"
          },
          "metadata": {
            "needs_background": "light"
          }
        }
      ]
    },
    {
      "cell_type": "code",
      "source": [
        "A = np.array([[4,2],[3, 3]])\n",
        "A"
      ],
      "metadata": {
        "id": "B5bOwH7B_RU3",
        "colab": {
          "base_uri": "https://localhost:8080/"
        },
        "outputId": "27aabf08-3555-48bd-cd49-a1f65e7c836f"
      },
      "execution_count": null,
      "outputs": [
        {
          "output_type": "execute_result",
          "data": {
            "text/plain": [
              "array([[4, 2],\n",
              "       [3, 3]])"
            ]
          },
          "metadata": {},
          "execution_count": 4
        }
      ]
    },
    {
      "cell_type": "code",
      "source": [
        "[lm, v] = np.linalg.eig(A)\n",
        "print(\"valores propios:\\n\", lm)\n",
        "print(\"\\n vectores propios\\n\",v)\n",
        "print(\"\\n A * v = \\n\",A@v)\n",
        "print(\"\\n lm*v = \\n\",lm*v)"
      ],
      "metadata": {
        "colab": {
          "base_uri": "https://localhost:8080/"
        },
        "id": "-gt0y9N_CBE8",
        "outputId": "30d13eb1-0af9-4964-9048-faca975f750d"
      },
      "execution_count": null,
      "outputs": [
        {
          "output_type": "stream",
          "name": "stdout",
          "text": [
            "valores propios:\n",
            " [6. 1.]\n",
            "\n",
            " vectores propios\n",
            " [[ 0.70710678 -0.5547002 ]\n",
            " [ 0.70710678  0.83205029]]\n",
            "\n",
            " A * v = \n",
            " [[ 4.24264069 -0.5547002 ]\n",
            " [ 4.24264069  0.83205029]]\n",
            "\n",
            " lm*v = \n",
            " [[ 4.24264069 -0.5547002 ]\n",
            " [ 4.24264069  0.83205029]]\n"
          ]
        }
      ]
    },
    {
      "cell_type": "code",
      "source": [
        "T = xy@A"
      ],
      "metadata": {
        "id": "X9I1coUPA7jC"
      },
      "execution_count": null,
      "outputs": []
    },
    {
      "cell_type": "code",
      "source": [
        "plt.plot( xy[:,0], xy[:,1], '*b' )\n",
        "plt.plot( T[:,0], T[:,1], '*g' )\n",
        "plt.axis('equal')\n",
        "plt.plot([0,4.5*0.70710678],[0,4.5*0.70710678],\"r\")\n",
        "plt.plot([0,1.5*-0.5547002],[0,1.5*0.83205029],\"r\")\n",
        "plt.show()"
      ],
      "metadata": {
        "colab": {
          "base_uri": "https://localhost:8080/",
          "height": 265
        },
        "id": "OYIvIuN-A-lq",
        "outputId": "d632b86b-e7de-40aa-c479-345e45614da3"
      },
      "execution_count": null,
      "outputs": [
        {
          "output_type": "display_data",
          "data": {
            "text/plain": [
              "<Figure size 432x288 with 1 Axes>"
            ],
            "image/png": "[encoded data removed]"
          },
          "metadata": {
            "needs_background": "light"
          }
        }
      ]
    },
    {
      "cell_type": "code",
      "source": [
        "B = np.array([[1,3],[3, 2]])"
      ],
      "metadata": {
        "id": "ZRGYyFceBH5i"
      },
      "execution_count": null,
      "outputs": []
    },
    {
      "cell_type": "code",
      "source": [
        "[lm, v] = np.linalg.eig(B)\n",
        "print(\"\\n vectores propios\\n\",v)\n",
        "print(\"\\n B * v = \\n\",B@v)\n",
        "print(\"\\n lm*v = \\n\",lm*v)\n",
        "T = xy@B"
      ],
      "metadata": {
        "colab": {
          "base_uri": "https://localhost:8080/"
        },
        "id": "Tz7bYDXuFWUo",
        "outputId": "e039fcb3-dc3a-40d1-f1bb-ff6aaed2f9ac"
      },
      "execution_count": null,
      "outputs": [
        {
          "output_type": "stream",
          "name": "stdout",
          "text": [
            "\n",
            " vectores propios\n",
            " [[-0.76301998 -0.6463749 ]\n",
            " [ 0.6463749  -0.76301998]]\n",
            "\n",
            " B * v = \n",
            " [[ 1.17610471 -2.93543484]\n",
            " [-0.99631016 -3.46516465]]\n",
            "\n",
            " lm*v = \n",
            " [[ 1.17610471 -2.93543484]\n",
            " [-0.99631016 -3.46516465]]\n"
          ]
        }
      ]
    },
    {
      "cell_type": "code",
      "source": [
        "plt.plot( xy[:,0], xy[:,1], '*b' )\n",
        "plt.plot( T[:,0], T[:,1], '*g' )\n",
        "plt.axis('equal')\n",
        "plt.plot([0,1.5*-0.76301998], [0,1.5*0.6463749],\"r\")\n",
        "plt.plot([0,4.5*-0.6463749], [0,4.5*-0.76301998],\"r\")\n",
        "plt.show()"
      ],
      "metadata": {
        "colab": {
          "base_uri": "https://localhost:8080/",
          "height": 265
        },
        "id": "Fygo6r1NFziH",
        "outputId": "463a44ce-651f-4548-9f72-690dde139526"
      },
      "execution_count": null,
      "outputs": [
        {
          "output_type": "display_data",
          "data": {
            "text/plain": [
              "<Figure size 432x288 with 1 Axes>"
            ],
            "image/png": "[encoded data removed]"
          },
          "metadata": {
            "needs_background": "light"
          }
        }
      ]
    },
    {
      "cell_type": "code",
      "source": [
        "AT=np.transpose(A)\n",
        "C1=A*AT"
      ],
      "metadata": {
        "colab": {
          "base_uri": "https://localhost:8080/"
        },
        "id": "taH7SDp2Isbv",
        "outputId": "c9496240-a0b6-490b-b2b6-9bfb6d2b0f38"
      },
      "execution_count": null,
      "outputs": [
        {
          "output_type": "execute_result",
          "data": {
            "text/plain": [
              "array([[16,  6],\n",
              "       [ 6,  9]])"
            ]
          },
          "metadata": {},
          "execution_count": 23
        }
      ]
    },
    {
      "cell_type": "code",
      "source": [
        "[lm, v] = np.linalg.eig(C1)\n",
        "print(\"valores propios:\\n\", lm)\n",
        "print(\"\\n vectores propios\\n\",v)\n",
        "print(\"\\n C1 * v = \\n\",C1@v)\n",
        "print(\"\\n lm*v = \\n\",lm*v)\n",
        "T = xy@C1"
      ],
      "metadata": {
        "colab": {
          "base_uri": "https://localhost:8080/"
        },
        "id": "ID6xFY-XJk1I",
        "outputId": "91181b89-ce19-41fc-af3a-886884209569"
      },
      "execution_count": null,
      "outputs": [
        {
          "output_type": "stream",
          "name": "stdout",
          "text": [
            "valores propios:\n",
            " [19.44622199  5.55377801]\n",
            "\n",
            " vectores propios\n",
            " [[ 0.86714215 -0.49806073]\n",
            " [ 0.49806073  0.86714215]]\n",
            "\n",
            " C1 * v = \n",
            " [[16.8626388  -2.76611871]\n",
            " [ 9.68539945  4.81591501]]\n",
            "\n",
            " lm*v = \n",
            " [[16.8626388  -2.76611871]\n",
            " [ 9.68539945  4.81591501]]\n"
          ]
        }
      ]
    },
    {
      "cell_type": "code",
      "source": [
        "plt.plot( xy[:,0], xy[:,1], '*b' )\n",
        "plt.plot( T[:,0], T[:,1], '*g' )\n",
        "plt.axis('equal')\n",
        "plt.plot([0,19*0.86714215], [0,19*0.49806073],\"r\")\n",
        "plt.plot([0,5*-0.49806073], [0,5*0.86714215],\"r\")\n",
        "plt.show()"
      ],
      "metadata": {
        "colab": {
          "base_uri": "https://localhost:8080/",
          "height": 265
        },
        "id": "waYlei_HJ343",
        "outputId": "17a6624c-7f13-4fb1-cf88-1c7130edb76a"
      },
      "execution_count": null,
      "outputs": [
        {
          "output_type": "display_data",
          "data": {
            "text/plain": [
              "<Figure size 432x288 with 1 Axes>"
            ],
            "image/png": "[encoded data removed]"
          },
          "metadata": {
            "needs_background": "light"
          }
        }
      ]
    },
    {
      "cell_type": "code",
      "source": [
        "C2=AT*A\n",
        "C2"
      ],
      "metadata": {
        "colab": {
          "base_uri": "https://localhost:8080/"
        },
        "id": "vvTK1EqKK0vS",
        "outputId": "7ea6445b-632f-4fa5-9b16-c623fe8d5886"
      },
      "execution_count": null,
      "outputs": [
        {
          "output_type": "execute_result",
          "data": {
            "text/plain": [
              "array([[16,  6],\n",
              "       [ 6,  9]])"
            ]
          },
          "metadata": {},
          "execution_count": 33
        }
      ]
    },
    {
      "cell_type": "code",
      "source": [
        "[lm, v] = np.linalg.eig(C2)\n",
        "print(\"valores propios:\\n\", lm)\n",
        "print(\"\\n vectores propios\\n\",v)\n",
        "print(\"\\n C2 * v = \\n\",C2@v)\n",
        "print(\"\\n lm*v = \\n\",lm*v)\n",
        "T = xy@C2"
      ],
      "metadata": {
        "colab": {
          "base_uri": "https://localhost:8080/"
        },
        "id": "htVeFdu_LAyj",
        "outputId": "afda428b-01f3-44f4-f125-81accc718e52"
      },
      "execution_count": null,
      "outputs": [
        {
          "output_type": "stream",
          "name": "stdout",
          "text": [
            "valores propios:\n",
            " [19.44622199  5.55377801]\n",
            "\n",
            " vectores propios\n",
            " [[ 0.86714215 -0.49806073]\n",
            " [ 0.49806073  0.86714215]]\n",
            "\n",
            " C1 * v = \n",
            " [[16.8626388  -2.76611871]\n",
            " [ 9.68539945  4.81591501]]\n",
            "\n",
            " lm*v = \n",
            " [[16.8626388  -2.76611871]\n",
            " [ 9.68539945  4.81591501]]\n"
          ]
        }
      ]
    },
    {
      "cell_type": "code",
      "source": [
        "plt.plot( xy[:,0], xy[:,1], '*b' )\n",
        "plt.plot( T[:,0], T[:,1], '*g' )\n",
        "plt.axis('equal')\n",
        "plt.plot([0,19*0.86714215], [0,19*0.49806073],\"r\")\n",
        "plt.plot([0,5*-0.49806073], [0,5*0.86714215],\"r\")\n",
        "plt.show()"
      ],
      "metadata": {
        "colab": {
          "base_uri": "https://localhost:8080/",
          "height": 265
        },
        "id": "TQjO3RCSLUmi",
        "outputId": "97432e52-f3e7-49ef-c173-2404c9405677"
      },
      "execution_count": null,
      "outputs": [
        {
          "output_type": "display_data",
          "data": {
            "text/plain": [
              "<Figure size 432x288 with 1 Axes>"
            ],
            "image/png": "[encoded data removed]"
          },
          "metadata": {
            "needs_background": "light"
          }
        }
      ]
    }
  ]
}