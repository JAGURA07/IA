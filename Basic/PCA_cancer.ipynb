{
  "nbformat": 4,
  "nbformat_minor": 0,
  "metadata": {
    "colab": {
      "provenance": []
    },
    "kernelspec": {
      "name": "python3",
      "display_name": "Python 3"
    },
    "language_info": {
      "name": "python"
    }
  },
  "cells": [
    {
      "cell_type": "code",
      "source": [
        "import pandas as pd\n",
        "from sklearn.model_selection import train_test_split\n",
        "from sklearn.preprocessing import StandardScaler\n",
        "import numpy as np\n",
        "import matplotlib.pyplot as plt\n",
        "from sklearn.datasets import load_breast_cancer"
      ],
      "metadata": {
        "id": "XQboeCgqrxXE"
      },
      "execution_count": null,
      "outputs": []
    },
    {
      "cell_type": "markdown",
      "source": [
        "Preprocesamiento de los datos"
      ],
      "metadata": {
        "id": "I9G-HiIXt5mr"
      }
    },
    {
      "cell_type": "code",
      "execution_count": null,
      "metadata": {
        "id": "zQuAQIUCgfoZ",
        "colab": {
          "base_uri": "https://localhost:8080/"
        },
        "outputId": "aaea565a-da19-473f-ab4f-9cb8b64a23f0"
      },
      "outputs": [
        {
          "output_type": "stream",
          "name": "stdout",
          "text": [
            "['malignant' 'benign']\n",
            "['mean radius' 'mean texture' 'mean perimeter' 'mean area'\n",
            " 'mean smoothness' 'mean compactness' 'mean concavity'\n",
            " 'mean concave points' 'mean symmetry' 'mean fractal dimension'\n",
            " 'radius error' 'texture error' 'perimeter error' 'area error'\n",
            " 'smoothness error' 'compactness error' 'concavity error'\n",
            " 'concave points error' 'symmetry error' 'fractal dimension error'\n",
            " 'worst radius' 'worst texture' 'worst perimeter' 'worst area'\n",
            " 'worst smoothness' 'worst compactness' 'worst concavity'\n",
            " 'worst concave points' 'worst symmetry' 'worst fractal dimension']\n"
          ]
        }
      ],
      "source": [
        "# Cargamos el dataset de los vinos\n",
        "cancer = load_breast_cancer()\n",
        "X=cancer['data']\n",
        "y = cancer['target']\n",
        "names = cancer['target_names']\n",
        "feature_names = cancer['feature_names']\n",
        "print(names)\n",
        "print(feature_names)"
      ]
    },
    {
      "cell_type": "code",
      "source": [
        "# Dividimos los datos en entrenamiento y validación. Se utiliza 70 por ciento\n",
        "# para entrenar y 30 por ciento para validar.\n",
        "X_train, X_test, y_train, y_test = train_test_split(X, y, test_size=0.3, stratify=y, random_state=0)"
      ],
      "metadata": {
        "id": "YO8xXCdcsFrj"
      },
      "execution_count": null,
      "outputs": []
    },
    {
      "cell_type": "code",
      "source": [
        "# Ahor estandarizamos los datos para que tengan media cero y varianza 1\n",
        "sc = StandardScaler()\n",
        "X_train_std = sc.fit_transform(X_train)\n",
        "X_test_std = sc.transform(X_test)"
      ],
      "metadata": {
        "id": "Kl-aMh2OtbT1"
      },
      "execution_count": null,
      "outputs": []
    },
    {
      "cell_type": "markdown",
      "source": [
        "Construcción de la matriz de covarianza"
      ],
      "metadata": {
        "id": "Pi5Dr_G8t8yD"
      }
    },
    {
      "cell_type": "code",
      "source": [
        "# Obtenemos la matriz de covarianza\n",
        "cov_mat = np.cov(X_train_std.T)\n",
        "\n",
        "# Obtenemos los eigenvalores y eigenvectores de la matriz de covarianza\n",
        "# ---- notar que todos son no negativos---------\n",
        "eigen_vals, eigen_vecs = np.linalg.eig(cov_mat)\n",
        "print(eigen_vals)"
      ],
      "metadata": {
        "colab": {
          "base_uri": "https://localhost:8080/"
        },
        "id": "Umoh-AHVuaNh",
        "outputId": "839d5386-0ccf-493f-d69a-88ff77eadc4d"
      },
      "execution_count": null,
      "outputs": [
        {
          "output_type": "stream",
          "name": "stdout",
          "text": [
            "[1.33619996e+01 5.77613227e+00 2.83172331e+00 1.99464701e+00\n",
            " 1.56506341e+00 1.18173548e+00 7.39253182e-01 4.81500525e-01\n",
            " 4.47377728e-01 3.59251865e-01 2.76598828e-01 2.41469690e-01\n",
            " 1.89614117e-01 1.51520781e-01 1.00837584e-01 7.31514176e-02\n",
            " 5.65453910e-02 5.45293598e-02 4.62442661e-02 3.14881362e-02\n",
            " 2.80669748e-02 2.36060675e-02 1.26373736e-04 6.33203650e-04\n",
            " 1.24812097e-03 1.98992275e-02 1.57750910e-02 6.29340590e-03\n",
            " 8.15218251e-03 1.10821457e-02]\n"
          ]
        }
      ]
    },
    {
      "cell_type": "markdown",
      "source": [
        "Visualización de \"que tanta información\" captura cada eigenvector"
      ],
      "metadata": {
        "id": "zo_qCmjlw2-n"
      }
    },
    {
      "cell_type": "code",
      "source": [
        "# Obtenemos de forma acumulativa que tanta \"informacion\" van teniendo los primeros k eigenvectores\n",
        "tot = sum(eigen_vals)\n",
        "var_exp = [(i/tot) for i in sorted(eigen_vals, reverse=True)] # Reverse porque los queremos en orden descendente.\n",
        "cum_var_exp = np.cumsum(var_exp)"
      ],
      "metadata": {
        "id": "8XkcRB1xw80m"
      },
      "execution_count": null,
      "outputs": []
    },
    {
      "cell_type": "code",
      "source": [
        "plt.bar(range(1, 31), var_exp, align='center', label='Varianza Capturada individual')\n",
        "plt.step(range(1, 31), cum_var_exp, where='mid', label='Varianza Capturada Acumulada')\n",
        "plt.ylabel('Varizanza Capturada (Porcentaje)')\n",
        "plt.xlabel('Índice de Componente Principal')\n",
        "plt.legend(loc='best')\n",
        "plt.tight_layout()\n",
        "plt.show()"
      ],
      "metadata": {
        "colab": {
          "base_uri": "https://localhost:8080/",
          "height": 297
        },
        "id": "aGAql8VOxfjf",
        "outputId": "f61f767f-34f1-4c2c-fb74-f48f8179f88f"
      },
      "execution_count": null,
      "outputs": [
        {
          "output_type": "display_data",
          "data": {
            "text/plain": [
              "<Figure size 432x288 with 1 Axes>"
            ],
            "image/png": "[encoded data removed]"
          },
          "metadata": {
            "needs_background": "light"
          }
        }
      ]
    },
    {
      "cell_type": "markdown",
      "source": [
        "Construcción de una matriz de proyección al nuevo espacio (con dimensión reducida)"
      ],
      "metadata": {
        "id": "OV6dDJowy5s0"
      }
    },
    {
      "cell_type": "code",
      "source": [
        "# hacer una lista de pares (eigenvalor, eigenvector)\n",
        "eigen_pairs = [(np.abs(eigen_vals[i]), eigen_vecs[:, i]) for i in range(len(eigen_vals))]\n",
        "\n",
        "# Reordenar en orden descendente (segun la varianza capturada)\n",
        "eigen_pairs.sort(key=lambda k: k[0], reverse=True)\n"
      ],
      "metadata": {
        "id": "XG4H-F7_y_y_"
      },
      "execution_count": null,
      "outputs": []
    },
    {
      "cell_type": "markdown",
      "source": [
        "Elegimos componentes y hacemos la reducción\n",
        "\n",
        "en este caso las primeras 2 componentes capturan aproximadamente el 60 por ciento de la información total del dataset"
      ],
      "metadata": {
        "id": "7p4-M6hKz2MO"
      }
    },
    {
      "cell_type": "code",
      "source": [
        "# Obtenemos la matriz que tiene las columnas correspondientes a los dos primero eigenvectores\n",
        "W = np.hstack((eigen_pairs[0][1][:, np.newaxis], \n",
        "               eigen_pairs[1][1][:, np.newaxis]))\n",
        "W"
      ],
      "metadata": {
        "colab": {
          "base_uri": "https://localhost:8080/"
        },
        "id": "3MuykBur0DRn",
        "outputId": "1337a954-1142-44d2-e9ea-d7f55b2a373b"
      },
      "execution_count": null,
      "outputs": [
        {
          "output_type": "execute_result",
          "data": {
            "text/plain": [
              "array([[ 0.2185744 , -0.23269304],\n",
              "       [ 0.09943658, -0.04518212],\n",
              "       [ 0.22689759, -0.21511138],\n",
              "       [ 0.22041417, -0.23091785],\n",
              "       [ 0.14604177,  0.18164928],\n",
              "       [ 0.24007255,  0.14810627],\n",
              "       [ 0.26068389,  0.04649103],\n",
              "       [ 0.25985533, -0.04286871],\n",
              "       [ 0.1405877 ,  0.19442808],\n",
              "       [ 0.06125885,  0.3644168 ],\n",
              "       [ 0.20734509, -0.1112404 ],\n",
              "       [ 0.01820432,  0.08220532],\n",
              "       [ 0.21094537, -0.09477317],\n",
              "       [ 0.2004511 , -0.15234119],\n",
              "       [ 0.00988444,  0.20625773],\n",
              "       [ 0.16686329,  0.23580134],\n",
              "       [ 0.15908967,  0.18699806],\n",
              "       [ 0.18553431,  0.11315016],\n",
              "       [ 0.04281591,  0.19027379],\n",
              "       [ 0.10637555,  0.27788893],\n",
              "       [ 0.22879137, -0.21466785],\n",
              "       [ 0.10073717, -0.03365085],\n",
              "       [ 0.23671966, -0.19619496],\n",
              "       [ 0.22617485, -0.21411621],\n",
              "       [ 0.1236782 ,  0.18696912],\n",
              "       [ 0.20970098,  0.15116191],\n",
              "       [ 0.22807551,  0.09811137],\n",
              "       [ 0.25096058, -0.00580671],\n",
              "       [ 0.12005442,  0.16348388],\n",
              "       [ 0.13083763,  0.27977269]])"
            ]
          },
          "metadata": {},
          "execution_count": 32
        }
      ]
    },
    {
      "cell_type": "code",
      "source": [
        "# Proyectamos hacia el espacio reducido\n",
        "X_train_pca = X_train_std.dot(W)"
      ],
      "metadata": {
        "id": "5v7V2kjU0-1m"
      },
      "execution_count": null,
      "outputs": []
    },
    {
      "cell_type": "markdown",
      "source": [
        "Visualización del espacio reducido"
      ],
      "metadata": {
        "id": "hfxWNHFn1Rst"
      }
    },
    {
      "cell_type": "code",
      "source": [
        "colors = ['r', 'b', 'g']\n",
        "markers = ['o', 's', '^']\n",
        "for l, c, m, in zip(np.unique(y_train), colors, markers):\n",
        "    plt.scatter(X_train_pca[y_train==l, 0],\n",
        "                X_train_pca[y_train==l, 1],\n",
        "                c=c, label=f'Class {l}', marker=m)\n",
        "    \n",
        "plt.xlabel('PC 1')\n",
        "plt.ylabel('PC 2')\n",
        "plt.legend(loc='lower left')\n",
        "plt.tight_layout()\n",
        "plt.show()"
      ],
      "metadata": {
        "colab": {
          "base_uri": "https://localhost:8080/",
          "height": 297
        },
        "id": "sEgQmbJZ1QSA",
        "outputId": "61c51bd3-9e70-4420-ccdf-224084ac6d07"
      },
      "execution_count": null,
      "outputs": [
        {
          "output_type": "display_data",
          "data": {
            "text/plain": [
              "<Figure size 432x288 with 1 Axes>"
            ],
            "image/png": "[encoded data removed]"
          },
          "metadata": {
            "needs_background": "light"
          }
        }
      ]
    }
  ]
}